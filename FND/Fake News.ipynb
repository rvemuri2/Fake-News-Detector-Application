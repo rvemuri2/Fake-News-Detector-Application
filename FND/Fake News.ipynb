{
 "cells": [
  {
   "cell_type": "markdown",
   "metadata": {},
   "source": [
    "# <center> Fake News Detector </center>\n",
    "\n",
    "<B> Data set Information </B>\n",
    "\n",
    "The dataset contains two types of articles fake and real news. This dataset was collected from real-world sources; the truthful articles were obtained by crawling articles from reuters.com (news \n",
    "website). As for the fake news articles, they were collected from different sources. The fake news \n",
    "articles were collected from unreliable websites that were flagged by Politifact (a fact-checking \n",
    "organization in the USA) and Wikipedia. The dataset contains different types of articles on different \n",
    "topics, however, the majority of articles focus on political and World news topics.\n",
    "\n",
    "The dataset consists of two CSV files. The first file named “True.csv” contains more than 12,600 \n",
    "articles from reuters.com. The second file named “Fake.csv” contains more than 12,600 articles from\n",
    "different fake news outlet resources. Each article contains the following information: article title, text, \n",
    "type and the date the article was published on. To match the fake news data collected for kaggle.com, \n",
    "we focused mostly on collecting articles from 2016 to 2017. The data collected were cleaned and \n",
    "processed, however, the punctuations and mistakes that existed in the fake news were kept in the text."
   ]
  },
  {
   "cell_type": "markdown",
   "metadata": {
    "heading_collapsed": true
   },
   "source": [
    "## General Imports"
   ]
  },
  {
   "cell_type": "code",
   "execution_count": 37,
   "metadata": {
    "ExecuteTime": {
     "end_time": "2021-03-14T20:07:55.817849Z",
     "start_time": "2021-03-14T20:07:55.806269Z"
    },
    "hidden": true
   },
   "outputs": [
    {
     "name": "stderr",
     "output_type": "stream",
     "text": [
      "[nltk_data] Downloading package stopwords to C:\\Users\\Bharadwaj\n",
      "[nltk_data]     Satya\\AppData\\Roaming\\nltk_data...\n",
      "[nltk_data]   Package stopwords is already up-to-date!\n"
     ]
    }
   ],
   "source": [
    "import warnings\n",
    "warnings.filterwarnings('ignore')\n",
    "\n",
    "import numpy as np\n",
    "import pandas as pd\n",
    "\n",
    "from sklearn.feature_extraction.text import CountVectorizer\n",
    "from sklearn.model_selection import train_test_split\n",
    "\n",
    "\n",
    "import re\n",
    "import nltk\n",
    "nltk.download('stopwords')\n",
    "from nltk.corpus import stopwords\n",
    "from nltk.stem.porter import PorterStemmer\n",
    "\n",
    "\n",
    "import matplotlib.pyplot as plt\n",
    "\n",
    "\n",
    "# For processing how well our methods have classified our data\n",
    "from sklearn.metrics import accuracy_score, confusion_matrix, recall_score, precision_score, f1_score,roc_auc_score\n",
    "\n",
    "\n",
    "from sklearn.naive_bayes import MultinomialNB\n",
    "from sklearn import metrics\n",
    "import itertools\n",
    "\n",
    "from sklearn.linear_model import PassiveAggressiveClassifier\n",
    "\n",
    "import pickle"
   ]
  },
  {
   "cell_type": "markdown",
   "metadata": {},
   "source": [
    "## Helper Functions"
   ]
  },
  {
   "cell_type": "markdown",
   "metadata": {
    "heading_collapsed": true
   },
   "source": [
    "### Confution Matrix"
   ]
  },
  {
   "cell_type": "code",
   "execution_count": 38,
   "metadata": {
    "ExecuteTime": {
     "end_time": "2021-03-14T20:07:58.954996Z",
     "start_time": "2021-03-14T20:07:58.933859Z"
    },
    "hidden": true
   },
   "outputs": [],
   "source": [
    "def plot_confusion_matrix(cm, classes, normalize=False, title='Confusion matrix', cmap=plt.cm.Blues):\n",
    "    \n",
    "    plt.imshow(cm, interpolation='nearest', cmap=cmap)\n",
    "    plt.title(title)\n",
    "    plt.colorbar()\n",
    "    tick_marks = np.arange(len(classes))\n",
    "    plt.xticks(tick_marks, classes, rotation=45)\n",
    "    plt.yticks(tick_marks, classes)\n",
    "\n",
    "    if normalize:\n",
    "        cm = cm.astype('float') / cm.sum(axis=1)[:, np.newaxis]\n",
    "        print(\"Normalized confusion matrix\")\n",
    "    else:\n",
    "        print('Confusion matrix, without normalization')\n",
    "\n",
    "    thresh = cm.max() / 2.\n",
    "    for i, j in itertools.product(range(cm.shape[0]), range(cm.shape[1])):\n",
    "        plt.text(j, i, cm[i, j],\n",
    "                 horizontalalignment=\"center\",\n",
    "                 color=\"white\" if cm[i, j] > thresh else \"black\")\n",
    "\n",
    "    plt.tight_layout()\n",
    "    plt.ylabel('True label')\n",
    "    plt.xlabel('Predicted label')"
   ]
  },
  {
   "cell_type": "markdown",
   "metadata": {
    "heading_collapsed": true
   },
   "source": [
    "### Output"
   ]
  },
  {
   "cell_type": "code",
   "execution_count": 39,
   "metadata": {
    "ExecuteTime": {
     "end_time": "2021-03-14T20:08:03.048906Z",
     "start_time": "2021-03-14T20:08:03.028936Z"
    },
    "hidden": true
   },
   "outputs": [],
   "source": [
    "# FUNCTION Output\n",
    "# Prints out the Scores of the model\n",
    "def Output(pred,label_test):\n",
    "    # Model Generalizability Analysis\n",
    "    accuracy = accuracy_score(label_test, pred)\n",
    "    conf_matrix = confusion_matrix(label_test, pred)\n",
    "    F1Score = f1_score(label_test,pred)\n",
    "    roc_auc = roc_auc_score(label_test,pred)\n",
    "    recall = recall_score(label_test,pred)\n",
    "\n",
    "    print('\\033[1m' + 'Confusion Matrix' + '\\033[0m') # printing in bold\n",
    "    print(conf_matrix)\n",
    "    \n",
    "    print('\\033[1m' + '\\nRecall' + '\\033[0m')\n",
    "    print(recall)  \n",
    "\n",
    "    print('\\033[1m' + '\\nAccuracy' + '\\033[0m')\n",
    "    print(accuracy)  \n",
    "    \n",
    "    print('\\033[1m' + '\\nF1 Score' + '\\033[0m')\n",
    "    print(F1Score)\n",
    "\n",
    "    print('\\033[1m' + '\\nROC AUC Score' + '\\033[0m')\n",
    "    print(roc_auc)"
   ]
  },
  {
   "cell_type": "markdown",
   "metadata": {},
   "source": [
    "## Data Cleaning"
   ]
  },
  {
   "cell_type": "code",
   "execution_count": 47,
   "metadata": {
    "ExecuteTime": {
     "end_time": "2021-03-15T19:14:35.983663Z",
     "start_time": "2021-03-15T19:14:32.520690Z"
    }
   },
   "outputs": [
    {
     "data": {
      "text/html": [
       "<div>\n",
       "<style scoped>\n",
       "    .dataframe tbody tr th:only-of-type {\n",
       "        vertical-align: middle;\n",
       "    }\n",
       "\n",
       "    .dataframe tbody tr th {\n",
       "        vertical-align: top;\n",
       "    }\n",
       "\n",
       "    .dataframe thead th {\n",
       "        text-align: right;\n",
       "    }\n",
       "</style>\n",
       "<table border=\"1\" class=\"dataframe\">\n",
       "  <thead>\n",
       "    <tr style=\"text-align: right;\">\n",
       "      <th></th>\n",
       "      <th>title</th>\n",
       "      <th>text</th>\n",
       "      <th>subject</th>\n",
       "      <th>date</th>\n",
       "      <th>label</th>\n",
       "    </tr>\n",
       "  </thead>\n",
       "  <tbody>\n",
       "    <tr>\n",
       "      <th>0</th>\n",
       "      <td>As U.S. budget fight looms, Republicans flip t...</td>\n",
       "      <td>WASHINGTON (Reuters) - The head of a conservat...</td>\n",
       "      <td>politicsNews</td>\n",
       "      <td>December 31, 2017</td>\n",
       "      <td>1</td>\n",
       "    </tr>\n",
       "    <tr>\n",
       "      <th>1</th>\n",
       "      <td>U.S. military to accept transgender recruits o...</td>\n",
       "      <td>WASHINGTON (Reuters) - Transgender people will...</td>\n",
       "      <td>politicsNews</td>\n",
       "      <td>December 29, 2017</td>\n",
       "      <td>1</td>\n",
       "    </tr>\n",
       "    <tr>\n",
       "      <th>2</th>\n",
       "      <td>Senior U.S. Republican senator: 'Let Mr. Muell...</td>\n",
       "      <td>WASHINGTON (Reuters) - The special counsel inv...</td>\n",
       "      <td>politicsNews</td>\n",
       "      <td>December 31, 2017</td>\n",
       "      <td>1</td>\n",
       "    </tr>\n",
       "    <tr>\n",
       "      <th>3</th>\n",
       "      <td>FBI Russia probe helped by Australian diplomat...</td>\n",
       "      <td>WASHINGTON (Reuters) - Trump campaign adviser ...</td>\n",
       "      <td>politicsNews</td>\n",
       "      <td>December 30, 2017</td>\n",
       "      <td>1</td>\n",
       "    </tr>\n",
       "    <tr>\n",
       "      <th>4</th>\n",
       "      <td>Trump wants Postal Service to charge 'much mor...</td>\n",
       "      <td>SEATTLE/WASHINGTON (Reuters) - President Donal...</td>\n",
       "      <td>politicsNews</td>\n",
       "      <td>December 29, 2017</td>\n",
       "      <td>1</td>\n",
       "    </tr>\n",
       "  </tbody>\n",
       "</table>\n",
       "</div>"
      ],
      "text/plain": [
       "                                               title  \\\n",
       "0  As U.S. budget fight looms, Republicans flip t...   \n",
       "1  U.S. military to accept transgender recruits o...   \n",
       "2  Senior U.S. Republican senator: 'Let Mr. Muell...   \n",
       "3  FBI Russia probe helped by Australian diplomat...   \n",
       "4  Trump wants Postal Service to charge 'much mor...   \n",
       "\n",
       "                                                text       subject  \\\n",
       "0  WASHINGTON (Reuters) - The head of a conservat...  politicsNews   \n",
       "1  WASHINGTON (Reuters) - Transgender people will...  politicsNews   \n",
       "2  WASHINGTON (Reuters) - The special counsel inv...  politicsNews   \n",
       "3  WASHINGTON (Reuters) - Trump campaign adviser ...  politicsNews   \n",
       "4  SEATTLE/WASHINGTON (Reuters) - President Donal...  politicsNews   \n",
       "\n",
       "                 date  label  \n",
       "0  December 31, 2017       1  \n",
       "1  December 29, 2017       1  \n",
       "2  December 31, 2017       1  \n",
       "3  December 30, 2017       1  \n",
       "4  December 29, 2017       1  "
      ]
     },
     "execution_count": 47,
     "metadata": {},
     "output_type": "execute_result"
    }
   ],
   "source": [
    "# create university of victoria dataframe\n",
    "\n",
    "uv_true_df = pd.read_csv(\"uv_true.csv\")\n",
    "uv_true_df[\"label\"] = 1\n",
    "\n",
    "uv_fake_df = pd.read_csv(\"uv_fake.csv\")\n",
    "uv_fake_df[\"label\"] = 0\n",
    "\n",
    "uv_df = pd.concat([uv_true_df, uv_fake_df], axis = 0)\n",
    "uv_df[\"author\"] = np.nan\n",
    "\n",
    "# uv_df.to_csv(\"uv_train.csv\")\n",
    "uv_true_df.head()"
   ]
  },
  {
   "cell_type": "code",
   "execution_count": 48,
   "metadata": {
    "ExecuteTime": {
     "end_time": "2021-03-15T19:15:42.656902Z",
     "start_time": "2021-03-15T19:15:39.389274Z"
    }
   },
   "outputs": [
    {
     "data": {
      "text/html": [
       "<div>\n",
       "<style scoped>\n",
       "    .dataframe tbody tr th:only-of-type {\n",
       "        vertical-align: middle;\n",
       "    }\n",
       "\n",
       "    .dataframe tbody tr th {\n",
       "        vertical-align: top;\n",
       "    }\n",
       "\n",
       "    .dataframe thead th {\n",
       "        text-align: right;\n",
       "    }\n",
       "</style>\n",
       "<table border=\"1\" class=\"dataframe\">\n",
       "  <thead>\n",
       "    <tr style=\"text-align: right;\">\n",
       "      <th></th>\n",
       "      <th>id</th>\n",
       "      <th>title</th>\n",
       "      <th>author</th>\n",
       "      <th>text</th>\n",
       "      <th>label</th>\n",
       "      <th>date</th>\n",
       "      <th>subject</th>\n",
       "    </tr>\n",
       "  </thead>\n",
       "  <tbody>\n",
       "    <tr>\n",
       "      <th>0</th>\n",
       "      <td>0</td>\n",
       "      <td>House Dem Aide: We Didn’t Even See Comey’s Let...</td>\n",
       "      <td>Darrell Lucus</td>\n",
       "      <td>House Dem Aide: We Didn’t Even See Comey’s Let...</td>\n",
       "      <td>1</td>\n",
       "      <td>NaN</td>\n",
       "      <td>NaN</td>\n",
       "    </tr>\n",
       "    <tr>\n",
       "      <th>1</th>\n",
       "      <td>1</td>\n",
       "      <td>FLYNN: Hillary Clinton, Big Woman on Campus - ...</td>\n",
       "      <td>Daniel J. Flynn</td>\n",
       "      <td>Ever get the feeling your life circles the rou...</td>\n",
       "      <td>0</td>\n",
       "      <td>NaN</td>\n",
       "      <td>NaN</td>\n",
       "    </tr>\n",
       "    <tr>\n",
       "      <th>2</th>\n",
       "      <td>2</td>\n",
       "      <td>Why the Truth Might Get You Fired</td>\n",
       "      <td>Consortiumnews.com</td>\n",
       "      <td>Why the Truth Might Get You Fired October 29, ...</td>\n",
       "      <td>1</td>\n",
       "      <td>NaN</td>\n",
       "      <td>NaN</td>\n",
       "    </tr>\n",
       "    <tr>\n",
       "      <th>3</th>\n",
       "      <td>3</td>\n",
       "      <td>15 Civilians Killed In Single US Airstrike Hav...</td>\n",
       "      <td>Jessica Purkiss</td>\n",
       "      <td>Videos 15 Civilians Killed In Single US Airstr...</td>\n",
       "      <td>1</td>\n",
       "      <td>NaN</td>\n",
       "      <td>NaN</td>\n",
       "    </tr>\n",
       "    <tr>\n",
       "      <th>4</th>\n",
       "      <td>4</td>\n",
       "      <td>Iranian woman jailed for fictional unpublished...</td>\n",
       "      <td>Howard Portnoy</td>\n",
       "      <td>Print \\nAn Iranian woman has been sentenced to...</td>\n",
       "      <td>1</td>\n",
       "      <td>NaN</td>\n",
       "      <td>NaN</td>\n",
       "    </tr>\n",
       "  </tbody>\n",
       "</table>\n",
       "</div>"
      ],
      "text/plain": [
       "   id                                              title              author  \\\n",
       "0   0  House Dem Aide: We Didn’t Even See Comey’s Let...       Darrell Lucus   \n",
       "1   1  FLYNN: Hillary Clinton, Big Woman on Campus - ...     Daniel J. Flynn   \n",
       "2   2                  Why the Truth Might Get You Fired  Consortiumnews.com   \n",
       "3   3  15 Civilians Killed In Single US Airstrike Hav...     Jessica Purkiss   \n",
       "4   4  Iranian woman jailed for fictional unpublished...      Howard Portnoy   \n",
       "\n",
       "                                                text  label  date  subject  \n",
       "0  House Dem Aide: We Didn’t Even See Comey’s Let...      1   NaN      NaN  \n",
       "1  Ever get the feeling your life circles the rou...      0   NaN      NaN  \n",
       "2  Why the Truth Might Get You Fired October 29, ...      1   NaN      NaN  \n",
       "3  Videos 15 Civilians Killed In Single US Airstr...      1   NaN      NaN  \n",
       "4  Print \\nAn Iranian woman has been sentenced to...      1   NaN      NaN  "
      ]
     },
     "execution_count": 48,
     "metadata": {},
     "output_type": "execute_result"
    }
   ],
   "source": [
    "# merge kaggle dataset to university of victoria dataframe\n",
    "\n",
    "kaggle_df = pd.read_csv(\"kaggle_train.csv\")\n",
    "kaggle_df[\"date\"] = np.nan\n",
    "kaggle_df[\"subject\"] = np.nan\n",
    "\n",
    "df = pd.concat([uv_df, kaggle_df], axis = 0)\n",
    "\n",
    "# df.to_csv(\"train.csv\")\n",
    "kaggle_df.head()"
   ]
  },
  {
   "cell_type": "code",
   "execution_count": 6,
   "metadata": {
    "ExecuteTime": {
     "end_time": "2021-03-14T16:32:04.224086Z",
     "start_time": "2021-03-14T16:32:04.103414Z"
    }
   },
   "outputs": [
    {
     "data": {
      "text/html": [
       "<div>\n",
       "<style scoped>\n",
       "    .dataframe tbody tr th:only-of-type {\n",
       "        vertical-align: middle;\n",
       "    }\n",
       "\n",
       "    .dataframe tbody tr th {\n",
       "        vertical-align: top;\n",
       "    }\n",
       "\n",
       "    .dataframe thead th {\n",
       "        text-align: right;\n",
       "    }\n",
       "</style>\n",
       "<table border=\"1\" class=\"dataframe\">\n",
       "  <thead>\n",
       "    <tr style=\"text-align: right;\">\n",
       "      <th></th>\n",
       "      <th>label</th>\n",
       "      <th>text</th>\n",
       "      <th>title</th>\n",
       "    </tr>\n",
       "  </thead>\n",
       "  <tbody>\n",
       "    <tr>\n",
       "      <th>0</th>\n",
       "      <td>1</td>\n",
       "      <td>WASHINGTON (Reuters) - The head of a conservat...</td>\n",
       "      <td>As U.S. budget fight looms, Republicans flip t...</td>\n",
       "    </tr>\n",
       "    <tr>\n",
       "      <th>1</th>\n",
       "      <td>1</td>\n",
       "      <td>WASHINGTON (Reuters) - Transgender people will...</td>\n",
       "      <td>U.S. military to accept transgender recruits o...</td>\n",
       "    </tr>\n",
       "    <tr>\n",
       "      <th>2</th>\n",
       "      <td>1</td>\n",
       "      <td>WASHINGTON (Reuters) - The special counsel inv...</td>\n",
       "      <td>Senior U.S. Republican senator: 'Let Mr. Muell...</td>\n",
       "    </tr>\n",
       "    <tr>\n",
       "      <th>3</th>\n",
       "      <td>1</td>\n",
       "      <td>WASHINGTON (Reuters) - Trump campaign adviser ...</td>\n",
       "      <td>FBI Russia probe helped by Australian diplomat...</td>\n",
       "    </tr>\n",
       "    <tr>\n",
       "      <th>4</th>\n",
       "      <td>1</td>\n",
       "      <td>SEATTLE/WASHINGTON (Reuters) - President Donal...</td>\n",
       "      <td>Trump wants Postal Service to charge 'much mor...</td>\n",
       "    </tr>\n",
       "  </tbody>\n",
       "</table>\n",
       "</div>"
      ],
      "text/plain": [
       "   label                                               text  \\\n",
       "0      1  WASHINGTON (Reuters) - The head of a conservat...   \n",
       "1      1  WASHINGTON (Reuters) - Transgender people will...   \n",
       "2      1  WASHINGTON (Reuters) - The special counsel inv...   \n",
       "3      1  WASHINGTON (Reuters) - Trump campaign adviser ...   \n",
       "4      1  SEATTLE/WASHINGTON (Reuters) - President Donal...   \n",
       "\n",
       "                                               title  \n",
       "0  As U.S. budget fight looms, Republicans flip t...  \n",
       "1  U.S. military to accept transgender recruits o...  \n",
       "2  Senior U.S. Republican senator: 'Let Mr. Muell...  \n",
       "3  FBI Russia probe helped by Australian diplomat...  \n",
       "4  Trump wants Postal Service to charge 'much mor...  "
      ]
     },
     "execution_count": 6,
     "metadata": {},
     "output_type": "execute_result"
    }
   ],
   "source": [
    "# drop insignificant features\n",
    "df = df.drop(['id', 'date', 'subject', 'author'], axis=1)\n",
    "\n",
    "# drop null values from dataframe\n",
    "df = df.dropna()\n",
    "df.head()"
   ]
  },
  {
   "cell_type": "code",
   "execution_count": 7,
   "metadata": {
    "ExecuteTime": {
     "end_time": "2021-03-14T16:32:04.256002Z",
     "start_time": "2021-03-14T16:32:04.229074Z"
    }
   },
   "outputs": [],
   "source": [
    "X = df.drop('label',axis=1)\n",
    "y = df['label']"
   ]
  },
  {
   "cell_type": "code",
   "execution_count": 8,
   "metadata": {
    "ExecuteTime": {
     "end_time": "2021-03-14T16:32:04.302878Z",
     "start_time": "2021-03-14T16:32:04.264982Z"
    }
   },
   "outputs": [
    {
     "data": {
      "text/html": [
       "<div>\n",
       "<style scoped>\n",
       "    .dataframe tbody tr th:only-of-type {\n",
       "        vertical-align: middle;\n",
       "    }\n",
       "\n",
       "    .dataframe tbody tr th {\n",
       "        vertical-align: top;\n",
       "    }\n",
       "\n",
       "    .dataframe thead th {\n",
       "        text-align: right;\n",
       "    }\n",
       "</style>\n",
       "<table border=\"1\" class=\"dataframe\">\n",
       "  <thead>\n",
       "    <tr style=\"text-align: right;\">\n",
       "      <th></th>\n",
       "      <th>index</th>\n",
       "      <th>label</th>\n",
       "      <th>text</th>\n",
       "      <th>title</th>\n",
       "    </tr>\n",
       "  </thead>\n",
       "  <tbody>\n",
       "    <tr>\n",
       "      <th>0</th>\n",
       "      <td>0</td>\n",
       "      <td>1</td>\n",
       "      <td>WASHINGTON (Reuters) - The head of a conservat...</td>\n",
       "      <td>As U.S. budget fight looms, Republicans flip t...</td>\n",
       "    </tr>\n",
       "    <tr>\n",
       "      <th>1</th>\n",
       "      <td>1</td>\n",
       "      <td>1</td>\n",
       "      <td>WASHINGTON (Reuters) - Transgender people will...</td>\n",
       "      <td>U.S. military to accept transgender recruits o...</td>\n",
       "    </tr>\n",
       "    <tr>\n",
       "      <th>2</th>\n",
       "      <td>2</td>\n",
       "      <td>1</td>\n",
       "      <td>WASHINGTON (Reuters) - The special counsel inv...</td>\n",
       "      <td>Senior U.S. Republican senator: 'Let Mr. Muell...</td>\n",
       "    </tr>\n",
       "    <tr>\n",
       "      <th>3</th>\n",
       "      <td>3</td>\n",
       "      <td>1</td>\n",
       "      <td>WASHINGTON (Reuters) - Trump campaign adviser ...</td>\n",
       "      <td>FBI Russia probe helped by Australian diplomat...</td>\n",
       "    </tr>\n",
       "    <tr>\n",
       "      <th>4</th>\n",
       "      <td>4</td>\n",
       "      <td>1</td>\n",
       "      <td>SEATTLE/WASHINGTON (Reuters) - President Donal...</td>\n",
       "      <td>Trump wants Postal Service to charge 'much mor...</td>\n",
       "    </tr>\n",
       "  </tbody>\n",
       "</table>\n",
       "</div>"
      ],
      "text/plain": [
       "   index  label                                               text  \\\n",
       "0      0      1  WASHINGTON (Reuters) - The head of a conservat...   \n",
       "1      1      1  WASHINGTON (Reuters) - Transgender people will...   \n",
       "2      2      1  WASHINGTON (Reuters) - The special counsel inv...   \n",
       "3      3      1  WASHINGTON (Reuters) - Trump campaign adviser ...   \n",
       "4      4      1  SEATTLE/WASHINGTON (Reuters) - President Donal...   \n",
       "\n",
       "                                               title  \n",
       "0  As U.S. budget fight looms, Republicans flip t...  \n",
       "1  U.S. military to accept transgender recruits o...  \n",
       "2  Senior U.S. Republican senator: 'Let Mr. Muell...  \n",
       "3  FBI Russia probe helped by Australian diplomat...  \n",
       "4  Trump wants Postal Service to charge 'much mor...  "
      ]
     },
     "execution_count": 8,
     "metadata": {},
     "output_type": "execute_result"
    }
   ],
   "source": [
    "# Reset Index\n",
    "df.reset_index(inplace=True)\n",
    "df.head()"
   ]
  },
  {
   "cell_type": "code",
   "execution_count": null,
   "metadata": {
    "ExecuteTime": {
     "end_time": "2021-03-14T04:51:52.452572Z",
     "start_time": "2021-03-14T04:51:52.439638Z"
    }
   },
   "outputs": [],
   "source": []
  },
  {
   "cell_type": "markdown",
   "metadata": {},
   "source": [
    "## NLP"
   ]
  },
  {
   "cell_type": "markdown",
   "metadata": {},
   "source": [
    "### Remove punctuation and Stop Words"
   ]
  },
  {
   "cell_type": "code",
   "execution_count": 9,
   "metadata": {
    "ExecuteTime": {
     "end_time": "2021-03-14T16:43:23.952240Z",
     "start_time": "2021-03-14T16:32:04.307864Z"
    }
   },
   "outputs": [],
   "source": [
    "# removes punctuation and stopwords\n",
    "\n",
    "#def RemovePunctuationAndStopwords( ps = PorterStemmer(), corpus = [], df):\n",
    "ps = PorterStemmer()\n",
    "corpus = []\n",
    "\n",
    "for i in range(0, len(df)):\n",
    "    review = re.sub('[^a-zA-Z]', ' ', df['title'][i])\n",
    "    review = review.lower()\n",
    "    review = review.split()\n",
    "    review = [ps.stem(word) for word in review if not word in stopwords.words('english')]\n",
    "    review = ' '.join(review)\n",
    "    corpus.append(review)"
   ]
  },
  {
   "cell_type": "markdown",
   "metadata": {},
   "source": [
    "### Bag of Words Model "
   ]
  },
  {
   "cell_type": "code",
   "execution_count": 10,
   "metadata": {
    "ExecuteTime": {
     "end_time": "2021-03-14T16:43:33.716500Z",
     "start_time": "2021-03-14T16:43:23.957188Z"
    }
   },
   "outputs": [],
   "source": [
    "# create bag of words model and applying CountVectorizer\n",
    "cv = CountVectorizer(max_features=5000,ngram_range=(1,3))\n",
    "X = cv.fit_transform(corpus).toarray()"
   ]
  },
  {
   "cell_type": "code",
   "execution_count": 11,
   "metadata": {
    "ExecuteTime": {
     "end_time": "2021-03-14T16:43:36.345429Z",
     "start_time": "2021-03-14T16:43:33.721486Z"
    }
   },
   "outputs": [],
   "source": [
    "# separate into train and test sets\n",
    "X_train, X_test, y_train, y_test = train_test_split(X, y, test_size=0.33, random_state=0)"
   ]
  },
  {
   "cell_type": "markdown",
   "metadata": {},
   "source": [
    "## Machine Learning"
   ]
  },
  {
   "cell_type": "markdown",
   "metadata": {},
   "source": [
    "### Multinomail NB Algorithm"
   ]
  },
  {
   "cell_type": "code",
   "execution_count": 12,
   "metadata": {
    "ExecuteTime": {
     "end_time": "2021-03-14T16:43:36.361387Z",
     "start_time": "2021-03-14T16:43:36.352412Z"
    }
   },
   "outputs": [],
   "source": [
    "classifier=MultinomialNB()"
   ]
  },
  {
   "cell_type": "code",
   "execution_count": 13,
   "metadata": {
    "ExecuteTime": {
     "end_time": "2021-03-14T16:43:40.568692Z",
     "start_time": "2021-03-14T16:43:36.366375Z"
    }
   },
   "outputs": [
    {
     "name": "stdout",
     "output_type": "stream",
     "text": [
      "accuracy:   0.853\n",
      "Confusion matrix, without normalization\n"
     ]
    },
    {
     "data": {
      "image/png": "[encoded data removed]",
      "text/plain": [
       "<Figure size 432x288 with 2 Axes>"
      ]
     },
     "metadata": {
      "needs_background": "light"
     },
     "output_type": "display_data"
    }
   ],
   "source": [
    "classifier.fit(X_train, y_train)\n",
    "pred1 = classifier.predict(X_test)\n",
    "score_MNBA = metrics.accuracy_score(y_test, pred1)\n",
    "print(\"accuracy:   %0.3f\" % score_MNBA)\n",
    "cm = metrics.confusion_matrix(y_test, pred1)\n",
    "plot_confusion_matrix(cm, classes=['FAKE', 'REAL'])"
   ]
  },
  {
   "cell_type": "code",
   "execution_count": 14,
   "metadata": {
    "ExecuteTime": {
     "end_time": "2021-03-14T16:43:40.694141Z",
     "start_time": "2021-03-14T16:43:40.575675Z"
    }
   },
   "outputs": [
    {
     "name": "stdout",
     "output_type": "stream",
     "text": [
      "\u001b[1mConfusion Matrix\u001b[0m\n",
      "[[9945 1269]\n",
      " [1895 8375]]\n",
      "\u001b[1m\n",
      "Recall\u001b[0m\n",
      "0.8154819863680624\n",
      "\u001b[1m\n",
      "Accuracy\u001b[0m\n",
      "0.852727611245578\n",
      "\u001b[1m\n",
      "F1 Score\u001b[0m\n",
      "0.8411168022496736\n",
      "\u001b[1m\n",
      "ROC AUC Score\u001b[0m\n",
      "0.851159933793983\n"
     ]
    }
   ],
   "source": [
    "Scores1 = Output(pred1,y_test)\n",
    "Scores1"
   ]
  },
  {
   "cell_type": "markdown",
   "metadata": {},
   "source": [
    "### Passive Aggressive Classifier Algorithm"
   ]
  },
  {
   "cell_type": "code",
   "execution_count": 15,
   "metadata": {
    "ExecuteTime": {
     "end_time": "2021-03-14T16:43:40.710106Z",
     "start_time": "2021-03-14T16:43:40.697133Z"
    }
   },
   "outputs": [],
   "source": [
    "linear_clf = PassiveAggressiveClassifier(n_iter_no_change=50)"
   ]
  },
  {
   "cell_type": "code",
   "execution_count": 16,
   "metadata": {
    "ExecuteTime": {
     "end_time": "2021-03-14T16:45:47.677155Z",
     "start_time": "2021-03-14T16:43:40.716082Z"
    }
   },
   "outputs": [
    {
     "name": "stdout",
     "output_type": "stream",
     "text": [
      "accuracy:   0.855\n",
      "Confusion matrix, without normalization\n"
     ]
    },
    {
     "data": {
      "image/png": "[encoded data removed]",
      "text/plain": [
       "<Figure size 432x288 with 2 Axes>"
      ]
     },
     "metadata": {
      "needs_background": "light"
     },
     "output_type": "display_data"
    }
   ],
   "source": [
    "linear_clf.fit(X_train, y_train)\n",
    "pred2 = linear_clf.predict(X_test)\n",
    "score_PACA = metrics.accuracy_score(y_test, pred2)\n",
    "print(\"accuracy:   %0.3f\" % score_PACA)\n",
    "cm = metrics.confusion_matrix(y_test, pred2)\n",
    "plot_confusion_matrix(cm, classes=['FAKE Data', 'REAL Data'])"
   ]
  },
  {
   "cell_type": "code",
   "execution_count": 17,
   "metadata": {
    "ExecuteTime": {
     "end_time": "2021-03-14T16:45:47.768909Z",
     "start_time": "2021-03-14T16:45:47.680148Z"
    }
   },
   "outputs": [
    {
     "name": "stdout",
     "output_type": "stream",
     "text": [
      "\u001b[1mConfusion Matrix\u001b[0m\n",
      "[[9739 1475]\n",
      " [1634 8636]]\n",
      "\u001b[1m\n",
      "Recall\u001b[0m\n",
      "0.8408958130477118\n",
      "\u001b[1m\n",
      "Accuracy\u001b[0m\n",
      "0.8552876559299945\n",
      "\u001b[1m\n",
      "F1 Score\u001b[0m\n",
      "0.8474559638879348\n",
      "\u001b[1m\n",
      "ROC AUC Score\u001b[0m\n",
      "0.8546818997466131\n"
     ]
    }
   ],
   "source": [
    "Scores2 = Output(pred2,y_test)\n",
    "Scores2"
   ]
  },
  {
   "cell_type": "markdown",
   "metadata": {},
   "source": [
    "### Multinomial Classifier with Hyperparameter"
   ]
  },
  {
   "cell_type": "code",
   "execution_count": 18,
   "metadata": {
    "ExecuteTime": {
     "end_time": "2021-03-14T16:45:47.784869Z",
     "start_time": "2021-03-14T16:45:47.773899Z"
    }
   },
   "outputs": [],
   "source": [
    "classifier=MultinomialNB(alpha=0.1)"
   ]
  },
  {
   "cell_type": "code",
   "execution_count": 19,
   "metadata": {
    "ExecuteTime": {
     "end_time": "2021-03-14T16:46:25.221311Z",
     "start_time": "2021-03-14T16:45:47.788856Z"
    }
   },
   "outputs": [
    {
     "name": "stdout",
     "output_type": "stream",
     "text": [
      "Alpha: 0.0, Score : 0.852960342580525\n",
      "Alpha: 0.1, Score : 0.8530068888475144\n",
      "Alpha: 0.2, Score : 0.8530534351145038\n",
      "Alpha: 0.30000000000000004, Score : 0.852960342580525\n",
      "Alpha: 0.4, Score : 0.8532396201824614\n",
      "Alpha: 0.5, Score : 0.8535654440513871\n",
      "Alpha: 0.6000000000000001, Score : 0.8534258052504189\n",
      "Alpha: 0.7000000000000001, Score : 0.853193073915472\n",
      "Alpha: 0.8, Score : 0.852960342580525\n",
      "Alpha: 0.9, Score : 0.8530068888475144\n"
     ]
    }
   ],
   "source": [
    "previous_score=0\n",
    "for alpha in np.arange(0,1,0.1):\n",
    "    sub_classifier=MultinomialNB(alpha=alpha)\n",
    "    sub_classifier.fit(X_train,y_train)\n",
    "    y_pred=sub_classifier.predict(X_test)\n",
    "    score = metrics.accuracy_score(y_test, y_pred)\n",
    "    if score>previous_score:\n",
    "        classifier=sub_classifier\n",
    "    print(\"Alpha: {}, Score : {}\".format(alpha,score))"
   ]
  },
  {
   "cell_type": "code",
   "execution_count": null,
   "metadata": {},
   "outputs": [],
   "source": []
  },
  {
   "cell_type": "markdown",
   "metadata": {
    "heading_collapsed": true
   },
   "source": [
    "## Save Best working Algorithm"
   ]
  },
  {
   "cell_type": "code",
   "execution_count": 20,
   "metadata": {
    "ExecuteTime": {
     "end_time": "2021-03-14T16:46:25.628654Z",
     "start_time": "2021-03-14T16:46:25.225300Z"
    },
    "hidden": true
   },
   "outputs": [
    {
     "ename": "TypeError",
     "evalue": "file must have a 'write' attribute",
     "output_type": "error",
     "traceback": [
      "\u001b[1;31m---------------------------------------------------------------------------\u001b[0m",
      "\u001b[1;31mTypeError\u001b[0m                                 Traceback (most recent call last)",
      "\u001b[1;32m<ipython-input-20-e1ad9ad0ce06>\u001b[0m in \u001b[0;36m<module>\u001b[1;34m\u001b[0m\n\u001b[0;32m      1\u001b[0m \u001b[1;31m#Multinomail NB Algorithm\u001b[0m\u001b[1;33m\u001b[0m\u001b[1;33m\u001b[0m\u001b[1;33m\u001b[0m\u001b[0m\n\u001b[1;32m----> 2\u001b[1;33m \u001b[0mpickle\u001b[0m\u001b[1;33m.\u001b[0m\u001b[0mdump\u001b[0m\u001b[1;33m(\u001b[0m\u001b[0mclassifier\u001b[0m\u001b[1;33m,\u001b[0m \u001b[1;34m'MNBA_final_model.sav'\u001b[0m\u001b[1;33m)\u001b[0m\u001b[1;33m\u001b[0m\u001b[1;33m\u001b[0m\u001b[0m\n\u001b[0m",
      "\u001b[1;31mTypeError\u001b[0m: file must have a 'write' attribute"
     ]
    }
   ],
   "source": [
    "#Multinomail NB Algorithm\n",
    "pickle.dump(classifier, 'MNBA_final_model.sav')"
   ]
  },
  {
   "cell_type": "code",
   "execution_count": null,
   "metadata": {
    "ExecuteTime": {
     "end_time": "2021-03-14T16:46:25.634652Z",
     "start_time": "2021-03-14T16:32:00.708Z"
    },
    "hidden": true,
    "run_control": {
     "marked": true
    }
   },
   "outputs": [],
   "source": [
    "Pkl_Filename = \"PAC.pkl\"\n",
    "\n",
    "with open(Pkl_Filename, 'wb') as file:\n",
    "    pickle.dump(linear_clf, file)\n",
    "    \n",
    "with open(Pkl_Filename, 'rb') as file:\n",
    "    model = pickle.load(file)\n",
    "    \n",
    "\n",
    "Pickled_LR_Model"
   ]
  },
  {
   "cell_type": "code",
   "execution_count": null,
   "metadata": {
    "hidden": true
   },
   "outputs": [],
   "source": []
  },
  {
   "cell_type": "markdown",
   "metadata": {
    "heading_collapsed": true
   },
   "source": [
    "## Calculating Score of saved models"
   ]
  },
  {
   "cell_type": "code",
   "execution_count": null,
   "metadata": {
    "ExecuteTime": {
     "end_time": "2021-03-14T16:46:25.637633Z",
     "start_time": "2021-03-14T16:32:01.129Z"
    },
    "hidden": true
   },
   "outputs": [],
   "source": [
    "\"\"\"\n",
    "# Calculate the accuracy score and predict target values\n",
    "\n",
    "# Calculate the Score \n",
    "score = Pickled_LR_Model.score(Xtest, Ytest)\n",
    "# Print the Score\n",
    "print(\"Test score: {0:.2f} %\".format(100 * score))\n",
    "\n",
    "# Predict the Labels using the reloaded Model\n",
    "Ypredict = Pickled_LR_Model.predict(Xtest)\n",
    "\n",
    "Ypredict\n",
    "\n",
    "\"\"\""
   ]
  },
  {
   "cell_type": "markdown",
   "metadata": {
    "heading_collapsed": true
   },
   "source": [
    "## Rough"
   ]
  },
  {
   "cell_type": "code",
   "execution_count": 41,
   "metadata": {
    "ExecuteTime": {
     "end_time": "2021-03-14T20:11:55.397157Z",
     "start_time": "2021-03-14T20:11:55.177563Z"
    },
    "hidden": true
   },
   "outputs": [],
   "source": [
    "cv??"
   ]
  },
  {
   "cell_type": "code",
   "execution_count": null,
   "metadata": {
    "ExecuteTime": {
     "end_time": "2021-03-14T16:46:25.644612Z",
     "start_time": "2021-03-14T16:32:01.577Z"
    },
    "hidden": true
   },
   "outputs": [],
   "source": [
    "uv_true_df = pd.read_csv(\"uv_true.csv\")\n",
    "uv_true_df[\"label\"] = 1\n",
    "uv_true_df.head()\n",
    "uv_true_df[\"text\"][0]"
   ]
  },
  {
   "cell_type": "code",
   "execution_count": null,
   "metadata": {
    "ExecuteTime": {
     "end_time": "2021-03-14T16:46:25.647603Z",
     "start_time": "2021-03-14T16:32:01.724Z"
    },
    "hidden": true
   },
   "outputs": [],
   "source": [
    "uv_fake_df = pd.read_csv(\"uv_fake.csv\")\n",
    "uv_fake_df[\"label\"] = 0\n",
    "uv_fake_df.head()"
   ]
  },
  {
   "cell_type": "code",
   "execution_count": null,
   "metadata": {
    "ExecuteTime": {
     "end_time": "2021-03-14T16:46:25.652606Z",
     "start_time": "2021-03-14T16:32:01.869Z"
    },
    "hidden": true
   },
   "outputs": [],
   "source": [
    "kaggle_df = pd.read_csv(\"train.csv\")\n",
    "kaggle_df.head(10)"
   ]
  },
  {
   "cell_type": "markdown",
   "metadata": {},
   "source": [
    "## Predicting Output"
   ]
  },
  {
   "cell_type": "code",
   "execution_count": null,
   "metadata": {
    "ExecuteTime": {
     "end_time": "2021-03-14T11:34:52.160618Z",
     "start_time": "2021-03-14T11:34:52.138681Z"
    }
   },
   "outputs": [],
   "source": []
  },
  {
   "cell_type": "code",
   "execution_count": 22,
   "metadata": {
    "ExecuteTime": {
     "end_time": "2021-03-14T17:02:43.157020Z",
     "start_time": "2021-03-14T17:02:43.139037Z"
    }
   },
   "outputs": [],
   "source": [
    "def FND():\n",
    "    input_title = input('\\033[1m' + '\\nEnter Title:' + '\\033[0m')\n",
    "    input_text = input('\\033[1m' + '\\nEnter Text:' + '\\033[0m')\n",
    "    \n",
    "    data = {\"title\": [input_title], \n",
    "        \"text\":[input_text]}\n",
    "    \n",
    "    df = pd.DataFrame(data)\n",
    "    \n",
    "    df.reset_index(inplace=True)\n",
    "\n",
    "    ps = PorterStemmer()\n",
    "    corpus = []\n",
    "\n",
    "    for i in range(0, len(df)):\n",
    "        review = re.sub('[^a-zA-Z]', ' ', df['title'][i])\n",
    "        review = review.lower()\n",
    "        review = review.split()\n",
    "        review = [ps.stem(word) for word in review if not word in stopwords.words('english')]\n",
    "        review = ' '.join(review)\n",
    "        corpus.append(review)\n",
    "    \n",
    "    print('\\n')\n",
    "\n",
    "    X = cv.transform(corpus).toarray()\n",
    "    #print(X.shape)\n",
    "    \n",
    "    output = linear_clf.predict(X)\n",
    "    #print(output)\n",
    "    \n",
    "    if output == 1:\n",
    "         print('\\033[1m' + '\\nReal News Detected' + '\\033[0m')\n",
    "    \n",
    "    else:\n",
    "        print('\\033[1m' + '\\nFake News Detected' + '\\033[0m')\n",
    "    "
   ]
  },
  {
   "cell_type": "code",
   "execution_count": 27,
   "metadata": {
    "ExecuteTime": {
     "end_time": "2021-03-14T17:14:42.742190Z",
     "start_time": "2021-03-14T17:14:26.263453Z"
    }
   },
   "outputs": [
    {
     "name": "stdout",
     "output_type": "stream",
     "text": [
      "\n",
      "Enter Title:He says Bigfoot is  real and his video proves it\n",
      "\n",
      "Enter Text:Some people believe in ghosts. Others believe in aliens.   Hickory man Doug Teague believes in Bigfoot, and he claims  he had an encounter with the monstrous creature in the McDowell  County area on Aug. 16.Teague is part of the Bigfoot investigation  crew Catawba Valley Bigfoot Research.  At a Bigfoot information  session led by the Marion group Bigfoot 911 at the Hickory library in  2017, Bigfoot was described as a creature that walks on two legs like humans.  Bigfoot is said to grow to be 6 to 9 feet tall and weighs anything from 600 to  900 pounds.  Signs that Bigfoot might be nearby include wood knocking and rock  throwing, which is what Teague said he experienced in McDowell County  the other week.\n",
      "\n",
      "\n",
      "\u001b[1m\n",
      "Fake News Detected\u001b[0m\n"
     ]
    }
   ],
   "source": [
    "FND()"
   ]
  },
  {
   "cell_type": "code",
   "execution_count": 28,
   "metadata": {
    "ExecuteTime": {
     "end_time": "2021-03-14T19:10:14.181903Z",
     "start_time": "2021-03-14T19:08:06.492103Z"
    }
   },
   "outputs": [
    {
     "name": "stdout",
     "output_type": "stream",
     "text": [
      "\n",
      "Enter Title:Women's cricket | South Africa women take unassailable 3-1 lead\n",
      "\n",
      "Enter Text:South Africa pulled together as a team, better in every department, to cruise past India by seven wickets in the fourth one-day international, and took an unbeatable 3-1 lead in the women’s cricket series at the Atal Bihari Vajpayee Ekana stadium on Sunday.  South Africa won the toss for the third time in the series and chased the highest target of 267 with remarkable composure. The top four batswomen shared the burden with half-centuries.  That put into shade the unbeaten 104 of Punam Raut and her century partnership with skipper Mithali Raj (45), who became the first woman in the world to score more 7,000 runs in one-dayers.  India took the field without strike bowler Jhulan Goswami, and had replaced opener Jemimah Rodrigues with Priya Punia who did well to score 32, after Smriti Mandhana fell early.\n",
      "\n",
      "\n",
      "\u001b[1m\n",
      "Real News Detected\u001b[0m\n"
     ]
    }
   ],
   "source": [
    "\n",
    "FND()"
   ]
  },
  {
   "cell_type": "code",
   "execution_count": 29,
   "metadata": {
    "ExecuteTime": {
     "end_time": "2021-03-14T19:13:10.602747Z",
     "start_time": "2021-03-14T19:11:49.050025Z"
    }
   },
   "outputs": [
    {
     "name": "stdout",
     "output_type": "stream",
     "text": [
      "\n",
      "Enter Title:The top 5 best finishers in world cricket\n",
      "\n",
      "Enter Text:In first place is England’s superstar, Jos Buttler. The right-hander has proved his credentials in all three formats of the game. His versatility in T20 cricket, sometimes plays against him because he is promoted to open. However, he is a sublime finisher towards the end of an innings, with the range of shots that he plays.  Buttler has the ability to scoop bowlers who nail their yorkers and can go deep in the crease to make full length deliveries, into balls that are in the slot. He has both the touch game and the power game to use when required.  Buttler averages nearly 40 at a strike rate of 110 while chasing and averages 40 at a strike rate of 126 when batting first. Both are quite ridiculous for ODI cricket standards. His 90 of just 51 balls against Pakistan at Trent Bridge in 2016, was an example of how his arrival can boost an already fast scoring rate.  Jos Buttler is currently the best finisher in world cricket, as a result of his ability to power the ball to all parts of the ground but also thanks to his cool temperament. \n",
      "\n",
      "\n",
      "\u001b[1m\n",
      "Fake News Detected\u001b[0m\n"
     ]
    }
   ],
   "source": [
    "#https://lastwordonsports.com/cricket/2021/03/13/the-top-5-best-finishers-in-world-cricket/\n",
    "FND()"
   ]
  },
  {
   "cell_type": "code",
   "execution_count": 30,
   "metadata": {
    "ExecuteTime": {
     "end_time": "2021-03-14T19:15:45.339297Z",
     "start_time": "2021-03-14T19:15:13.718259Z"
    }
   },
   "outputs": [
    {
     "name": "stdout",
     "output_type": "stream",
     "text": [
      "\n",
      "Enter Title:FAA Can’t Explain Pilot’s UFO Sighting Last Weekend Over New Mexico\n",
      "\n",
      "Enter Text:A radio transmission from an American Airlines from Cincinnati to Phoenix last weekend might have been ripped straight from the X-Files.  “Do you have any targets up here? We just had something go right over the top of us,” said the pilot at 1:19 p.m. CST on Sunday. “I hate to say this but it looked like a long cylindrical object that almost looked like a cruise missile type of thing moving really fast right over the top of us,” according to audio published on aviation blog Deep Black Horizon.  The blogger, Steve Douglass, intercepted the transmission accidentally as he was trying to pick up another aircraft with a radio scanner. “It was a pure coincidence,” he told The Arizona Republic.  Douglass used two flight tracking websites, Flightradar24 and Flight Aware, to determine that the exact position of the plane was “over the northeast corner of New Mexico west of Clayton, New Mexico” at an altitude of 37,000 feet.  Douglass’ blog post includes a link to download the audio MP3 file, which he named “UFO.”  Following a debrief with the flight crew, American Airlines confirmed that the radio transmission came from flight 2292.  Yesterday, the FAA released a short statement: “A pilot reported seeing an object over New Mexico shortly after noon local time on Sunday, Feb. 21, 2021. FAA air traffic controllers did not see any object in the area on their radarscopes.”   While authorities may never be able to explain what the missile-like object was, it’s not the first time a pilot has spotted unexplained flying phenomena. In fact, it happens fairly regularly.  A remarkably similar incident occurred over the Sonoran Desert three years ago. On February 24, 2018, within minutes of each other, two pilots flying different aircraft — a Phoenix Air Group Learjet and an American Airlines commercial flight — both reported passing a mysterious object, according to audio recordings released by the Federal Aviation Administration to the Phoenix New Times several weeks later.  “Was anybody above us that passed us like 30 seconds ago?” the Learjet pilot asked an air traffic controller. “Negative,” replied the tower.  In November 9, 2018, a British Airways pilot flying over Ireland reported seeing “a very bright light that disappeared at very high speed,” reported The Guardian. A Virgin Airlines pilot confirmed seeing it, too: “Multiple objects following the same sort of trajectory – very bright from where we were.”  Experts say there is usually a very logical explanation for UFO sightings, and the U.S. government has had a famously long history of being tight-lipped on the subject. In recent years, however, there’s been some notable movement on that front.  In 2017, the Pentagon acknowledged the existence of a $22-million Advanced Aerospace Threat Identification Program that had investigated reports of “unexplained aerial phenomena” from 2007 until it was shut down in 2012.\n",
      "\n",
      "\n",
      "\u001b[1m\n",
      "Real News Detected\u001b[0m\n"
     ]
    }
   ],
   "source": [
    "#https://www.forbes.com/sites/suzannerowankelleher/2021/02/25/faa-cant-explain-pilots-ufo-sighting-last-weekend-over-new-mexico/?sh=3019c6d449e1\n",
    "FND()"
   ]
  },
  {
   "cell_type": "code",
   "execution_count": 31,
   "metadata": {
    "ExecuteTime": {
     "end_time": "2021-03-14T19:17:27.079918Z",
     "start_time": "2021-03-14T19:17:01.067971Z"
    }
   },
   "outputs": [
    {
     "name": "stdout",
     "output_type": "stream",
     "text": [
      "\n",
      "Enter Title:North Korea 'not responding' to US contact efforts\n",
      "\n",
      "Enter Text:US President Joe Biden's administration says it has been trying to contact the North Korean government since February but has yet to receive a response.  Washington had tried to reach Pyongyang in several different ways to prevent tensions escalating, officials said.  The US and North Korea remain at loggerheads over North Korea's nuclear and ballistic missile programmes.  Three meetings between Mr Biden's predecessor and North Korea's Kim Jong-un achieved little.  The talks failed to persuade North Korea to give up nuclear weapons - a key demand of the US and other Western powers.  North Korean state media has yet to acknowledge that Joe Biden is now the American president.  US attempts to communicate with Pyongyang have included the \"New York Channel\" - through the North Korean mission at the United Nations.  A US official told Reuters news agency there had been \"multiple attempts\" to engage with North Korea, but no meaningful contact for more than 12 months, which includes much of Donald Trump's final year as president.\n",
      "\n",
      "\n",
      "\u001b[1m\n",
      "Real News Detected\u001b[0m\n"
     ]
    }
   ],
   "source": [
    "FND()"
   ]
  },
  {
   "cell_type": "code",
   "execution_count": 42,
   "metadata": {
    "ExecuteTime": {
     "end_time": "2021-03-14T20:15:26.498198Z",
     "start_time": "2021-03-14T20:12:58.268626Z"
    }
   },
   "outputs": [
    {
     "name": "stdout",
     "output_type": "stream",
     "text": [
      "\n",
      "Enter Title:'Perhaps Kohli, Shastri think he is Dhoni's replacement': Sehwag feels management needs to back Rishabh Pant more\n",
      "\n",
      "Enter Text:India vs England: Sehwag believes that  \\perhaps the team management, comprising  captain Virat Kohli and head coach Ravi  Shastri, is looking for a like-for-like  replacement for MS Dhoni in Pant, which  the former India opening batsman reckons,  is not the right way forward.Despite the  recent string of impressive performances,  former India batsman Virender Sehwag is  worried that Pant could be subjected to  an ouster from the team if he doesn't  score in the coming two three matches.  Sehwag compared the current generation  of cricketers to the time he played,  explaining how the room for inconsistency  today is far narrower, and that Pant is  bound to play such shots time and again,  which is where the management needs to back  him and give him a longer run.\n",
      "\n",
      "\n",
      "\u001b[1m\n",
      "Fake News Detected\u001b[0m\n"
     ]
    }
   ],
   "source": [
    "FND()"
   ]
  },
  {
   "cell_type": "code",
   "execution_count": 43,
   "metadata": {
    "ExecuteTime": {
     "end_time": "2021-03-14T20:16:16.965412Z",
     "start_time": "2021-03-14T20:15:50.231511Z"
    }
   },
   "outputs": [
    {
     "name": "stdout",
     "output_type": "stream",
     "text": [
      "\n",
      "Enter Title:'Perhaps Kohli, Shastri think he is Dhoni's replacement': Sehwag feels management needs to back Rishabh Pant more\n",
      "\n",
      "Enter Text:India vs England: Sehwag believes that  perhaps the team management, comprising  captain Virat Kohli and head coach Ravi  Shastri, is looking for a like-for-like  replacement for MS Dhoni in Pant, which  the former India opening batsman reckons,  is not the right way forward.Despite the  recent string of impressive performances,  former India batsman Virender Sehwag is  worried that Pant could be subjected to  an ouster from the team if he doesn't  score in the coming two three matches.  Sehwag compared the current generation  of cricketers to the time he played,  explaining how the room for inconsistency  today is far narrower, and that Pant is  bound to play such shots time and again,  which is where the management needs to back  him and give him a longer run.\n",
      "\n",
      "\n",
      "\u001b[1m\n",
      "Fake News Detected\u001b[0m\n"
     ]
    }
   ],
   "source": [
    "FND()"
   ]
  },
  {
   "cell_type": "code",
   "execution_count": 44,
   "metadata": {
    "ExecuteTime": {
     "end_time": "2021-03-14T20:17:15.794952Z",
     "start_time": "2021-03-14T20:16:55.465232Z"
    }
   },
   "outputs": [
    {
     "name": "stdout",
     "output_type": "stream",
     "text": [
      "\n",
      "Enter Title:Duke University undergrads ordered to stay in place all week as Covid-19 cases spike\n",
      "\n",
      "Enter Text:Duke University officials issued a stay-in-place order for all undergraduate students through next Sunday as the school tries to combat a rapidly escalating number of Covid-19 cases.  In a letter sent to students on Saturday, officials at the Durham, North Carolina, university said that more than 180 students have tested positive for Covid-19 and are in isolation, while another 200 are under in quarantine based on contact tracing. The spike in cases is \"principally driven by students attending recruitment parties for selective living groups,\" the letter said. This is the largest one-week total of positive cases and quarantines since the pandemic began, officials said. All courses will shift to remote learning and students living on campus must stay in their room or apartment at all times outside of essential activities, such as getting food or for health or safety reasons. Off-campus students are not permitted on campus other than to participate in surveillance testing, seek medical care or to pick up food orders. The Duke outbreak is a fresh example of the pandemic's ongoing danger, even as daily new Covid-19 cases continue to decline and millions get vaccinated. The outbreak has even reached into the storied men's basketball team, which withdrew from the ACC tournament on Thursday after a positive case in the program. \"If this feels serious, it's because it is,\" the letter says. \"The restriction of student movement -- coupled with a renewed dedication to following social distancing, masking, symptom monitoring and other public health guidelines -- gives us the best path toward curtailing further spread. Violations of these requirements will be considered a violation of the Duke Compact and will be treated as such; flagrant and repeated violations will be grounds for suspension or withdrawal from Duke.\" The letter was signed by Associate Vice President for Student Affairs and Dean of Students John Blackshear, Vice Provost of Undergraduate Education Gary Bennett and Vice Provost of Student Affairs Mary Pat McMahon. The letter says the ability to finish the semester and have a commencement for those graduating is \"hanging in the balance.\" Duke officials will provide an update to the order on March 18, it says.\n",
      "\n",
      "\n",
      "\u001b[1m\n",
      "Real News Detected\u001b[0m\n"
     ]
    }
   ],
   "source": [
    "FND()"
   ]
  },
  {
   "cell_type": "code",
   "execution_count": 45,
   "metadata": {
    "ExecuteTime": {
     "end_time": "2021-03-14T20:26:31.157517Z",
     "start_time": "2021-03-14T20:26:04.153456Z"
    }
   },
   "outputs": [
    {
     "name": "stdout",
     "output_type": "stream",
     "text": [
      "\n",
      "Enter Title:US election 2020: Why Donald Trump lost\n",
      "\n",
      "Enter Text:Donald Trump won more than 70 million votes, the second highest total in American history. Nationally, he has more than a 47% share of his vote, and looks to have won 24 states, including his beloved Florida and Texas.  He has an extraordinary hold over large swathes of this country, a visceral connection that among thousands of supporters has brought a near cult-like devotion. After four years in the White House, his supporters studied the fine print of his presidency and clicked enthusiastically on the terms and conditions.  Any analysis of his political weakness in 2020 also has to acknowledge his political strength. However, he was defeated, becoming one of only four incumbents in the modern era not to get another four years. Also he has become the first president to lose the popular vote in consecutive elections.  Live updates with reaction and analysis Five reasons Biden won the election Donald Trump won the presidency in 2016 partly because he was a norm-busting political outsider who was prepared to say what had previously been unsayable.  But Donald Trump also lost the presidency in 2020 partly because he was a norm-busting political outsider who was prepared to say what had previously been unsayable.  Though much of the Trump base might well have voted for him if he had shot someone on Fifth Avenue, his infamous boast from four years ago, others who supported him four years ago were put off by his aggressive behaviour.\n",
      "\n",
      "\n",
      "\u001b[1m\n",
      "Real News Detected\u001b[0m\n"
     ]
    }
   ],
   "source": [
    "FND()"
   ]
  },
  {
   "cell_type": "code",
   "execution_count": 46,
   "metadata": {
    "ExecuteTime": {
     "end_time": "2021-03-15T19:07:21.616973Z",
     "start_time": "2021-03-15T19:07:21.579865Z"
    }
   },
   "outputs": [
    {
     "data": {
      "text/plain": [
       "sklearn.feature_extraction.text.CountVectorizer"
      ]
     },
     "execution_count": 46,
     "metadata": {},
     "output_type": "execute_result"
    }
   ],
   "source": [
    "type(cv)"
   ]
  },
  {
   "cell_type": "code",
   "execution_count": 49,
   "metadata": {
    "ExecuteTime": {
     "end_time": "2021-03-15T19:20:24.467289Z",
     "start_time": "2021-03-15T19:19:35.763904Z"
    }
   },
   "outputs": [
    {
     "name": "stdout",
     "output_type": "stream",
     "text": [
      "\n",
      "Enter Title:FAA Can’t Explain Pilot’s UFO Sighting Last Weekend Over New Mexico\n",
      "\n",
      "Enter Text:A radio transmission from an American Airlines from Cincinnati to Phoenix last weekend might have been ripped straight from the X-Files.  “Do you have any targets up here? We just had something go right over the top of us,” said the pilot at 1:19 p.m. CST on Sunday. “I hate to say this but it looked like a long cylindrical object that almost looked like a cruise missile type of thing moving really fast right over the top of us,” according to audio published on aviation blog Deep Black Horizon.  The blogger, Steve Douglass, intercepted the transmission accidentally as he was trying to pick up another aircraft with a radio scanner. “It was a pure coincidence,” he told The Arizona Republic.  Douglass used two flight tracking websites, Flightradar24 and Flight Aware, to determine that the exact position of the plane was “over the northeast corner of New Mexico west of Clayton, New Mexico” at an altitude of 37,000 feet.  Douglass’ blog post includes a link to download the audio MP3 file, which he named “UFO.”  Following a debrief with the flight crew, American Airlines confirmed that the radio transmission came from flight 2292.  Yesterday, the FAA released a short statement: “A pilot reported seeing an object over New Mexico shortly after noon local time on Sunday, Feb. 21, 2021. FAA air traffic controllers did not see any object in the area on their radarscopes.”   While authorities may never be able to explain what the missile-like object was, it’s not the first time a pilot has spotted unexplained flying phenomena. In fact, it happens fairly regularly.  A remarkably similar incident occurred over the Sonoran Desert three years ago. On February 24, 2018, within minutes of each other, two pilots flying different aircraft — a Phoenix Air Group Learjet and an American Airlines commercial flight — both reported passing a mysterious object, according to audio recordings released by the Federal Aviation Administration to the Phoenix New Times several weeks later.  “Was anybody above us that passed us like 30 seconds ago?” the Learjet pilot asked an air traffic controller. “Negative,” replied the tower.  In November 9, 2018, a British Airways pilot flying over Ireland reported seeing “a very bright light that disappeared at very high speed,” reported The Guardian. A Virgin Airlines pilot confirmed seeing it, too: “Multiple objects following the same sort of trajectory – very bright from where we were.”  Experts say there is usually a very logical explanation for UFO sightings, and the U.S. government has had a famously long history of being tight-lipped on the subject. In recent years, however, there’s been some notable movement on that front.  In 2017, the Pentagon acknowledged the existence of a $22-million Advanced Aerospace Threat Identification Program that had investigated reports of “unexplained aerial phenomena” from 2007 until it was shut down in 2012.   In April 2019 the U.S. Navy announced it was modifying how pilots reported UFO sightings in favor of a more data-driven approach, telling Politico that there had been “a number of reports of unauthorized and/or unidentified aircraft entering various military-controlled ranges and designated air space in recent years.”  The next month, five Navy pilots told the New York Times that they had frequently seen unidentified flying objects that looked like white Tic Tacs or spinning tops off the Eastern seaboard from Virginia to Florida between 2014 and 2015. The objects, they said, reached hypersonic speeds and heights of 30,000 feet without any visible engine or exhaust trails.  One 10-year veteran, Lieutenant Ryan Graves, said he saw these objects on a daily basis. “These things would be out there all day,” Graves told the Times. “With the speeds we observed, 12 hours in the air is 11 hours longer than we’d expect.”  Of course, unexplained is not the same as extraterrestrial. “It's probably one part of the military not telling the other part of the military what they're up to,” speculated Bill Nye the Science Guy to CNN’s Brian Stelter at the time. (And to be fair, once in a while a military branch ‘fesses up.)  Last April, the Pentagon declassified and released three videos taken by Navy pilots — one from 2004 and the others from 2015 — in order to “clear up any misconceptions by the public on whether or not the footage that has been circulating was real, or whether or not there is more to the videos,” per a statement, noting “the aerial phenomena observed in the videos remain characterized as ‘unidentified.’”  Americans wondering if the truth is out there will likely learn a lot more about UFOs later this year.\n",
      "\n",
      "\n",
      "\u001b[1m\n",
      "Real News Detected\u001b[0m\n"
     ]
    }
   ],
   "source": [
    "FND()"
   ]
  },
  {
   "cell_type": "code",
   "execution_count": null,
   "metadata": {},
   "outputs": [],
   "source": []
  }
 ],
 "metadata": {
  "hide_input": false,
  "kernelspec": {
   "display_name": "Python 3",
   "language": "python",
   "name": "python3"
  },
  "language_info": {
   "codemirror_mode": {
    "name": "ipython",
    "version": 3
   },
   "file_extension": ".py",
   "mimetype": "text/x-python",
   "name": "python",
   "nbconvert_exporter": "python",
   "pygments_lexer": "ipython3",
   "version": "3.7.3"
  }
 },
 "nbformat": 4,
 "nbformat_minor": 2
}
